{
  "nbformat": 4,
  "nbformat_minor": 0,
  "metadata": {
    "colab": {
      "provenance": []
    },
    "kernelspec": {
      "name": "python3",
      "display_name": "Python 3"
    },
    "language_info": {
      "name": "python"
    },
    "accelerator": "GPU"
  },
  "cells": [
    {
      "cell_type": "markdown",
      "metadata": {
        "id": "aSs07Swt8Xij"
      },
      "source": [
        "# Mounting Gdrive"
      ]
    },
    {
      "cell_type": "code",
      "metadata": {
        "id": "TVvKLuL98L8u",
        "colab": {
          "base_uri": "https://localhost:8080/"
        },
        "outputId": "f5d4067b-94df-4540-ca6f-e87b9272f36f"
      },
      "source": [
        "from google.colab import drive\n",
        "drive.mount('/content/drive')"
      ],
      "execution_count": 1,
      "outputs": [
        {
          "output_type": "stream",
          "name": "stdout",
          "text": [
            "Mounted at /content/drive\n"
          ]
        }
      ]
    },
    {
      "cell_type": "markdown",
      "metadata": {
        "id": "phwZkxV5Z0E9"
      },
      "source": [
        "# Libraries"
      ]
    },
    {
      "cell_type": "code",
      "metadata": {
        "id": "az4DMJ-7ROBN"
      },
      "source": [
        "cd 'your code directory'"
      ],
      "execution_count": null,
      "outputs": []
    },
    {
      "cell_type": "code",
      "metadata": {
        "id": "m8jrx7F7ZzZA"
      },
      "source": [
        "import keras\n",
        "import pickle\n",
        "import numpy as np\n",
        "from tqdm import tqdm\n",
        "from skimage import data\n",
        "from scipy import ndimage\n",
        "from skimage import filters\n",
        "import matplotlib.pyplot as plt\n",
        "import pickle\n",
        "import numpy as np\n",
        "from tqdm import tqdm\n",
        "from skimage import data\n",
        "from skimage import filters\n",
        "from skimage import data\n",
        "from skimage import filters\n",
        "from scipy import ndimage\n",
        "from skimage import data\n",
        "from skimage import filters\n",
        "import matplotlib.pyplot as plt\n",
        "import pickle\n",
        "\n",
        "\n",
        "def Plot_Slice(my_data,my_out,npreds,mask_scaled,LungMask,NumCase,NumSlice):\n",
        "\n",
        "    plt.figure(figsize=(15,15))\n",
        "    plt.subplot(161) # original\n",
        "    plt.imshow(my_data[NumCase][0,NumSlice,:,:,0])\n",
        "\n",
        "    plt.subplot(162) # removed\n",
        "    plt.imshow(my_out[NumCase][NumSlice,:,:,0])\n",
        "\n",
        "    plt.subplot(163) # generated mask\n",
        "    plt.imshow(npreds)\n",
        "\n",
        "    plt.subplot(164) # Real mask\n",
        "    plt.imshow(mask_scaled[NumCase][0,NumSlice,:,:,0])\n",
        "\n",
        "def sensitivityScore(label_trues, label_preds):\n",
        "    sensitivities = []\n",
        "    for i in range(label_trues.shape[0]):\n",
        "        true_positives = (label_trues[i] * label_preds[i]).sum()\n",
        "        possible_positives = label_trues[i].sum()\n",
        "        score = (true_positives / (possible_positives + 1e-9)) if possible_positives > 0 else 0\n",
        "        sensitivities.append(score)\n",
        "    return np.max(sensitivities) if sensitivities else 0\n",
        "\n",
        "def specificityScore(label_trues, label_preds):\n",
        "    specificities = []\n",
        "    for i in range(label_trues.shape[0]):\n",
        "        true_negatives = ((1 - label_trues[i]) * (1 - label_preds[i])).sum()\n",
        "        possible_negatives = (1 - label_trues[i]).sum()\n",
        "        score = (true_negatives / (possible_negatives + 1e-9)) if possible_negatives > 0 else 0\n",
        "        specificities.append(score)\n",
        "    return np.max(specificities) if specificities else 0\n",
        "\n",
        "def DiceScore(label_trues, label_preds):\n",
        "    dice_scores = []\n",
        "    for i in range(label_trues.shape[0]):\n",
        "        intersection = 2 * (label_trues[i] * label_preds[i]).sum()\n",
        "        sum_labels = label_trues[i].sum() + label_preds[i].sum()\n",
        "        score = (intersection / (sum_labels + 1e-9)) if sum_labels > 0 else 0\n",
        "        dice_scores.append(score)\n",
        "    return np.max(dice_scores) if dice_scores else 0\n",
        "\n",
        "\n",
        "def PlotingResults(dice_list,InfectionPercent,ScoreName=''):\n",
        "    dice_list = np.array(dice_list)\n",
        "    InfectionPercent = np.array(InfectionPercent)\n",
        "    Data_up1per= dice_list[np.where(( (InfectionPercent> 1) ))]\n",
        "    print(ScoreName,\"Mean:\", 100*np.array(Data_up1per)[~np.isnan(Data_up1per)].mean() ,ScoreName,\"Std:\", 100*np.array(Data_up1per)[~np.isnan(Data_up1per)].std() )\n",
        "\n",
        "\n",
        "def EvaluateMain(my_data,my_out,mask_scaled,LungMask,Threshold,thresholdMethod,PlotingCase,PlotingSlice,PostPro):\n",
        "    maxval=1\n",
        "    dice_list_p = []\n",
        "    sensitivity_list_p = []\n",
        "    specificity_list_p = []\n",
        "    InfectionPercent = []\n",
        "\n",
        "    for i in tqdm(range(len(my_data))):\n",
        "        for j in range(my_data[i].shape[1]):\n",
        "            InfectionPercent.append( (100*mask_scaled[i][0,j,:,:,0].sum())/(LungMask[i][j,:,:].sum()+(10**-9)) )\n",
        "            diff = my_out[i][j,:,:,0]\n",
        "\n",
        "\n",
        "\n",
        "            npreds = (diff > Threshold*np.amax(diff)) * maxval\n",
        "\n",
        "\n",
        "\n",
        "            dice_list_p.append(DiceScore(np.reshape(mask_scaled[i][0,j,:,:,0],(128*128)), np.reshape( npreds ,(128*128) )))\n",
        "\n",
        "\n",
        "            sensitivity_list_p.append(sensitivityScore(np.reshape(mask_scaled[i][0,j,:,:,0],(128*128)), np.reshape( npreds ,(128*128) )))\n",
        "\n",
        "\n",
        "            specificity_list_p.append(specificityScore(np.reshape(mask_scaled[i][0,j,:,:,0],(128*128)), np.reshape( npreds ,(128*128) )))\n",
        "\n",
        "    return dice_list_p ,sensitivity_list_p ,specificity_list_p ,InfectionPercent"
      ],
      "execution_count": 6,
      "outputs": []
    },
    {
      "cell_type": "markdown",
      "metadata": {
        "id": "avk2v0N_8kGL"
      },
      "source": [
        "# Load The Model"
      ]
    },
    {
      "cell_type": "code",
      "metadata": {
        "colab": {
          "base_uri": "https://localhost:8080/"
        },
        "id": "r1GTAz_L74CS",
        "outputId": "05d9ac5f-cd9e-41ff-90c7-0db6c06e5bfa"
      },
      "source": [
        "### load the model\n",
        "BCDU_net_D3_model = keras.models.load_model('/content/drive/MyDrive/my_en_de')\n",
        "BCDU_net_D3_model.summary()"
      ],
      "execution_count": 3,
      "outputs": [
        {
          "output_type": "stream",
          "name": "stdout",
          "text": [
            "Model: \"model_4\"\n",
            "__________________________________________________________________________________________________\n",
            " Layer (type)                Output Shape                 Param #   Connected to                  \n",
            "==================================================================================================\n",
            " input_4 (InputLayer)        [(None, 128, 128, 1)]        0         []                            \n",
            "                                                                                                  \n",
            " conv2d_56 (Conv2D)          (None, 128, 128, 32)         320       ['input_4[0][0]']             \n",
            "                                                                                                  \n",
            " conv2d_57 (Conv2D)          (None, 128, 128, 32)         9248      ['conv2d_56[0][0]']           \n",
            "                                                                                                  \n",
            " max_pooling2d_12 (MaxPooli  (None, 64, 64, 32)           0         ['conv2d_57[0][0]']           \n",
            " ng2D)                                                                                            \n",
            "                                                                                                  \n",
            " conv2d_58 (Conv2D)          (None, 64, 64, 64)           18496     ['max_pooling2d_12[0][0]']    \n",
            "                                                                                                  \n",
            " conv2d_59 (Conv2D)          (None, 64, 64, 64)           36928     ['conv2d_58[0][0]']           \n",
            "                                                                                                  \n",
            " max_pooling2d_13 (MaxPooli  (None, 32, 32, 64)           0         ['conv2d_59[0][0]']           \n",
            " ng2D)                                                                                            \n",
            "                                                                                                  \n",
            " conv2d_60 (Conv2D)          (None, 32, 32, 128)          73856     ['max_pooling2d_13[0][0]']    \n",
            "                                                                                                  \n",
            " conv2d_61 (Conv2D)          (None, 32, 32, 128)          147584    ['conv2d_60[0][0]']           \n",
            "                                                                                                  \n",
            " max_pooling2d_14 (MaxPooli  (None, 16, 16, 128)          0         ['conv2d_61[0][0]']           \n",
            " ng2D)                                                                                            \n",
            "                                                                                                  \n",
            " conv2d_62 (Conv2D)          (None, 16, 16, 256)          295168    ['max_pooling2d_14[0][0]']    \n",
            "                                                                                                  \n",
            " conv2d_63 (Conv2D)          (None, 16, 16, 256)          590080    ['conv2d_62[0][0]']           \n",
            "                                                                                                  \n",
            " dropout_17 (Dropout)        (None, 16, 16, 256)          0         ['conv2d_63[0][0]']           \n",
            "                                                                                                  \n",
            " conv2d_64 (Conv2D)          (None, 16, 16, 256)          590080    ['dropout_17[0][0]']          \n",
            "                                                                                                  \n",
            " conv2d_65 (Conv2D)          (None, 16, 16, 256)          590080    ['conv2d_64[0][0]']           \n",
            "                                                                                                  \n",
            " dropout_18 (Dropout)        (None, 16, 16, 256)          0         ['conv2d_65[0][0]']           \n",
            "                                                                                                  \n",
            " concatenate_7 (Concatenate  (None, 16, 16, 512)          0         ['dropout_18[0][0]',          \n",
            " )                                                                   'dropout_17[0][0]']          \n",
            "                                                                                                  \n",
            " conv2d_66 (Conv2D)          (None, 16, 16, 256)          1179904   ['concatenate_7[0][0]']       \n",
            "                                                                                                  \n",
            " conv2d_67 (Conv2D)          (None, 16, 16, 256)          590080    ['conv2d_66[0][0]']           \n",
            "                                                                                                  \n",
            " dropout_19 (Dropout)        (None, 16, 16, 256)          0         ['conv2d_67[0][0]']           \n",
            "                                                                                                  \n",
            " conv2d_transpose_3 (Conv2D  (None, 32, 32, 128)          295040    ['dropout_19[0][0]']          \n",
            " Transpose)                                                                                       \n",
            "                                                                                                  \n",
            " batch_normalization_3 (Bat  (None, 32, 32, 128)          512       ['conv2d_transpose_3[0][0]']  \n",
            " chNormalization)                                                                                 \n",
            "                                                                                                  \n",
            " dropout_16 (Dropout)        (None, 32, 32, 128)          0         ['conv2d_61[0][0]']           \n",
            "                                                                                                  \n",
            " activation_3 (Activation)   (None, 32, 32, 128)          0         ['batch_normalization_3[0][0]'\n",
            "                                                                    ]                             \n",
            "                                                                                                  \n",
            " reshape_6 (Reshape)         (None, 1, 32, 32, 128)       0         ['dropout_16[0][0]']          \n",
            "                                                                                                  \n",
            " reshape_7 (Reshape)         (None, 1, 32, 32, 128)       0         ['activation_3[0][0]']        \n",
            "                                                                                                  \n",
            " concatenate_8 (Concatenate  (None, 2, 32, 32, 128)       0         ['reshape_6[0][0]',           \n",
            " )                                                                   'reshape_7[0][0]']           \n",
            "                                                                                                  \n",
            " conv_lstm2d_3 (ConvLSTM2D)  (None, 32, 32, 64)           196864    ['concatenate_8[0][0]']       \n",
            "                                                                                                  \n",
            " conv2d_68 (Conv2D)          (None, 32, 32, 128)          73856     ['conv_lstm2d_3[0][0]']       \n",
            "                                                                                                  \n",
            " conv2d_69 (Conv2D)          (None, 32, 32, 128)          147584    ['conv2d_68[0][0]']           \n",
            "                                                                                                  \n",
            " conv2d_transpose_4 (Conv2D  (None, 64, 64, 64)           32832     ['conv2d_69[0][0]']           \n",
            " Transpose)                                                                                       \n",
            "                                                                                                  \n",
            " batch_normalization_4 (Bat  (None, 64, 64, 64)           256       ['conv2d_transpose_4[0][0]']  \n",
            " chNormalization)                                                                                 \n",
            "                                                                                                  \n",
            " activation_4 (Activation)   (None, 64, 64, 64)           0         ['batch_normalization_4[0][0]'\n",
            "                                                                    ]                             \n",
            "                                                                                                  \n",
            " reshape_8 (Reshape)         (None, 1, 64, 64, 64)        0         ['conv2d_59[0][0]']           \n",
            "                                                                                                  \n",
            " reshape_9 (Reshape)         (None, 1, 64, 64, 64)        0         ['activation_4[0][0]']        \n",
            "                                                                                                  \n",
            " concatenate_9 (Concatenate  (None, 2, 64, 64, 64)        0         ['reshape_8[0][0]',           \n",
            " )                                                                   'reshape_9[0][0]']           \n",
            "                                                                                                  \n",
            " conv_lstm2d_4 (ConvLSTM2D)  (None, 64, 64, 32)           49280     ['concatenate_9[0][0]']       \n",
            "                                                                                                  \n",
            " conv2d_70 (Conv2D)          (None, 64, 64, 64)           18496     ['conv_lstm2d_4[0][0]']       \n",
            "                                                                                                  \n",
            " conv2d_71 (Conv2D)          (None, 64, 64, 64)           36928     ['conv2d_70[0][0]']           \n",
            "                                                                                                  \n",
            " conv2d_transpose_5 (Conv2D  (None, 128, 128, 32)         8224      ['conv2d_71[0][0]']           \n",
            " Transpose)                                                                                       \n",
            "                                                                                                  \n",
            " batch_normalization_5 (Bat  (None, 128, 128, 32)         128       ['conv2d_transpose_5[0][0]']  \n",
            " chNormalization)                                                                                 \n",
            "                                                                                                  \n",
            " activation_5 (Activation)   (None, 128, 128, 32)         0         ['batch_normalization_5[0][0]'\n",
            "                                                                    ]                             \n",
            "                                                                                                  \n",
            " reshape_10 (Reshape)        (None, 1, 128, 128, 32)      0         ['conv2d_57[0][0]']           \n",
            "                                                                                                  \n",
            " reshape_11 (Reshape)        (None, 1, 128, 128, 32)      0         ['activation_5[0][0]']        \n",
            "                                                                                                  \n",
            " concatenate_10 (Concatenat  (None, 2, 128, 128, 32)      0         ['reshape_10[0][0]',          \n",
            " e)                                                                  'reshape_11[0][0]']          \n",
            "                                                                                                  \n",
            " conv_lstm2d_5 (ConvLSTM2D)  (None, 128, 128, 16)         12352     ['concatenate_10[0][0]']      \n",
            "                                                                                                  \n",
            " conv2d_72 (Conv2D)          (None, 128, 128, 32)         4640      ['conv_lstm2d_5[0][0]']       \n",
            "                                                                                                  \n",
            " conv2d_73 (Conv2D)          (None, 128, 128, 32)         9248      ['conv2d_72[0][0]']           \n",
            "                                                                                                  \n",
            " conv2d_74 (Conv2D)          (None, 128, 128, 2)          578       ['conv2d_73[0][0]']           \n",
            "                                                                                                  \n",
            " conv2d_75 (Conv2D)          (None, 128, 128, 1)          3         ['conv2d_74[0][0]']           \n",
            "                                                                                                  \n",
            "==================================================================================================\n",
            "Total params: 5008645 (19.11 MB)\n",
            "Trainable params: 5008197 (19.10 MB)\n",
            "Non-trainable params: 448 (1.75 KB)\n",
            "__________________________________________________________________________________________________\n"
          ]
        }
      ]
    },
    {
      "cell_type": "markdown",
      "metadata": {
        "id": "YP_yxVsHYrug"
      },
      "source": [
        "# Load Data"
      ]
    },
    {
      "cell_type": "code",
      "metadata": {
        "id": "8U_uA9AKYqUo"
      },
      "source": [
        "#### calculate the output of model\n",
        "def OutPutModel(my_data):\n",
        "    my_out = []\n",
        "    for i in tqdm(range(len(my_data))):\n",
        "        my_out.append(BCDU_net_D3_model.predict(my_data[i][0,:,:,:]))\n",
        "    return my_out\n",
        "\n",
        "\n",
        "def Add_Dim(data):\n",
        "    ################## add a dim to data\n",
        "    data_scaled = []\n",
        "    for j in tqdm(range(len(data))):\n",
        "            output = np.zeros((1,data[j].shape[0],data[j].shape[1],data[j].shape[2],1))\n",
        "            output[0,:,:,:,0] = data[j][:,:,:]\n",
        "            data_scaled.append(output)\n",
        "    return data_scaled\n",
        "\n",
        "\n",
        "def LoadData(DatasetName):\n",
        "\n",
        "    ############## Load\n",
        "    if(DatasetName=='Mosmed_Dataset'):\n",
        "        Base_data = np.load('/content/drive/MyDrive/Groupe1/preprocessed_data/BaseCTImages.npy')\n",
        "\n",
        "        data = np.load('/content/drive/MyDrive/Groupe1/preprocessed_data/LungImages.npy')\n",
        "\n",
        "\n",
        "        mask = np.load('/content/drive/MyDrive/Groupe1/preprocessed_data2/InfectionMasks.npy')\n",
        "\n",
        "        LungMask = np.load('/content/drive/MyDrive/Groupe1/preprocessed_data2/LungMask.npy')\n",
        "\n",
        "        for i in range(mask.shape[0]):\n",
        "            mask[i,:,:,:]=np.where(mask[i,:,:,:]>0.5,1,0)\n",
        "            LungMask[i,:,:,:]=np.where(LungMask[i,:,:,:]>0.0005,1,0)\n",
        "\n",
        "\n",
        "    if(DatasetName=='UESTC'):\n",
        "        Base_data = np.load('./BaseCTImages.npy')\n",
        "\n",
        "        data = np.load('./LungImages.npy')\n",
        "\n",
        "        mask = np.load('./InfectionMasks.npy')\n",
        "\n",
        "        LungMask = np.load('./LungMask.npy')\n",
        "        for i in range(len(mask)):\n",
        "            mask[i]=np.where(np.array(mask[i])>0.5,1,0)\n",
        "            LungMask[i]=np.where(np.array(LungMask[i])>0.0005,1,0)\n",
        "\n",
        "\n",
        "    if(DatasetName=='Radiopedia'):\n",
        "        Base_data = np.load('./BaseCTImages.npy')\n",
        "\n",
        "        data = np.load('./LungImages.npy')\n",
        "\n",
        "        mask = np.load('./InfectionMasks.npy')\n",
        "\n",
        "        LungMask = np.load('./LungMask.npy')\n",
        "        for i in range(len(mask[0].shape[0])):\n",
        "            mask[i]=np.where(np.array(mask[i])>0.5,1,0)\n",
        "            LungMask[i]=np.where(np.array(LungMask[i])>0.0005,1,0)\n",
        "\n",
        "\n",
        "\n",
        "    ####################### Add a dim\n",
        "    ########### add a dim to data\n",
        "    Data_scaled = Add_Dim(data)\n",
        "\n",
        "    ########### add a dim to mask\n",
        "    mask_scaled = Add_Dim(mask)\n",
        "\n",
        "    ### get output of model\n",
        "    my_out = OutPutModel(Data_scaled)\n",
        "\n",
        "    return Data_scaled,my_out, mask_scaled, LungMask\n",
        "\n",
        "\n",
        "\n"
      ],
      "execution_count": 4,
      "outputs": []
    },
    {
      "cell_type": "code",
      "source": [
        "def EvaluateMain(my_data, my_out, mask_scaled, LungMask, Threshold, thresholdMethod, PlotingCase, PlotingSlice, PostPro):\n",
        "    maxval = 1\n",
        "    dice_list_p = []\n",
        "    sensitivity_list_p = []\n",
        "    specificity_list_p = []\n",
        "    InfectionPercent = []\n",
        "\n",
        "    for i in tqdm(range(len(my_data))):\n",
        "        for j in range(my_data[i].shape[1]):\n",
        "            # Ensure that i and j are within valid range\n",
        "            if i < len(mask_scaled) and j < my_data[i].shape[1]:\n",
        "                # Check dimensions of mask_scaled and LungMask\n",
        "                if mask_scaled[i][0, j, :, :, 0].shape == LungMask[i][j, :, :].shape:\n",
        "                    infection_sum = mask_scaled[i][0, j, :, :, 0].sum()\n",
        "                    lung_mask_sum = LungMask[i][j, :, :].sum()\n",
        "\n",
        "                    # Check if lung mask sum is zero and skip calculations\n",
        "                    if lung_mask_sum > 0:\n",
        "                        infection_percent = (100 * infection_sum) / (lung_mask_sum + (10**-9))\n",
        "                        InfectionPercent.append(infection_percent)\n",
        "\n",
        "                        diff = my_out[i][j, :, :, 0]\n",
        "\n",
        "                        npreds = (diff > Threshold * np.amax(diff)) * maxval\n",
        "\n",
        "                        dice_list_p.append(DiceScore(np.reshape(mask_scaled[i][0, j, :, :, 0], (128*128)),\n",
        "                                                     np.reshape(npreds, (128*128))))\n",
        "\n",
        "                        sensitivity_list_p.append(sensitivityScore(np.reshape(mask_scaled[i][0, j, :, :, 0], (128*128)),\n",
        "                                                                   np.reshape(npreds, (128*128))))\n",
        "\n",
        "                        specificity_list_p.append(specificityScore(np.reshape(mask_scaled[i][0, j, :, :, 0], (128*128)),\n",
        "                                                                   np.reshape(npreds, (128*128))))\n",
        "                    else:\n",
        "                        print(f\"Warning: Lung mask sum is zero for case {i}, slice {j}. Skipping calculations.\")\n",
        "                else:\n",
        "                    print(\"Error: Dimensions of mask_scaled and LungMask do not match.\")\n",
        "\n",
        "\n",
        "    return dice_list_p, sensitivity_list_p, specificity_list_p, InfectionPercent\n"
      ],
      "metadata": {
        "id": "IhQ0ANNRP6VD"
      },
      "execution_count": 8,
      "outputs": []
    },
    {
      "cell_type": "markdown",
      "metadata": {
        "id": "xWdntSD73GGa"
      },
      "source": [
        "# Evaluation"
      ]
    },
    {
      "cell_type": "code",
      "metadata": {
        "colab": {
          "base_uri": "https://localhost:8080/"
        },
        "id": "_p-Er--SePNw",
        "outputId": "9819058d-90d6-4bab-b0db-70682de951a7"
      },
      "source": [
        "#### upload data\n",
        "my_data, my_out, mask_scaled, LungMask = LoadData(\"Mosmed_Dataset\")\n",
        "\n",
        "####### Calculating the evaluation metrics(Dice score, Specificity, Sensitivity )\n",
        "\n",
        "dice_list, sensitivity_list, specificity_list, InfectionPercent = EvaluateMain(my_data,my_out,mask_scaled,LungMask,Threshold= 0.2,thresholdMethod='1',\n",
        "                                                                                      PlotingCase=10,PlotingSlice=15,PostPro=False)\n"
      ],
      "execution_count": 9,
      "outputs": [
        {
          "output_type": "stream",
          "name": "stderr",
          "text": [
            "100%|██████████| 50/50 [00:00<00:00, 279.14it/s]\n",
            "100%|██████████| 2/2 [00:00<00:00, 276.46it/s]\n",
            "  0%|          | 0/50 [00:00<?, ?it/s]"
          ]
        },
        {
          "output_type": "stream",
          "name": "stdout",
          "text": [
            "1/1 [==============================] - 0s 52ms/step\n"
          ]
        },
        {
          "output_type": "stream",
          "name": "stderr",
          "text": [
            "\r  2%|▏         | 1/50 [00:00<00:18,  2.65it/s]"
          ]
        },
        {
          "output_type": "stream",
          "name": "stdout",
          "text": [
            "1/1 [==============================] - 0s 39ms/step\n"
          ]
        },
        {
          "output_type": "stream",
          "name": "stderr",
          "text": [
            "\r  4%|▍         | 2/50 [00:00<00:13,  3.58it/s]"
          ]
        },
        {
          "output_type": "stream",
          "name": "stdout",
          "text": [
            "1/1 [==============================] - 0s 39ms/step\n"
          ]
        },
        {
          "output_type": "stream",
          "name": "stderr",
          "text": [
            "\r  6%|▌         | 3/50 [00:00<00:11,  4.01it/s]"
          ]
        },
        {
          "output_type": "stream",
          "name": "stdout",
          "text": [
            "1/1 [==============================] - 0s 46ms/step\n"
          ]
        },
        {
          "output_type": "stream",
          "name": "stderr",
          "text": [
            "\r  8%|▊         | 4/50 [00:01<00:10,  4.22it/s]"
          ]
        },
        {
          "output_type": "stream",
          "name": "stdout",
          "text": [
            "1/1 [==============================] - 0s 40ms/step\n"
          ]
        },
        {
          "output_type": "stream",
          "name": "stderr",
          "text": [
            "\r 10%|█         | 5/50 [00:01<00:10,  4.36it/s]"
          ]
        },
        {
          "output_type": "stream",
          "name": "stdout",
          "text": [
            "1/1 [==============================] - 0s 42ms/step\n"
          ]
        },
        {
          "output_type": "stream",
          "name": "stderr",
          "text": [
            "\r 12%|█▏        | 6/50 [00:01<00:09,  4.44it/s]"
          ]
        },
        {
          "output_type": "stream",
          "name": "stdout",
          "text": [
            "1/1 [==============================] - 0s 39ms/step\n"
          ]
        },
        {
          "output_type": "stream",
          "name": "stderr",
          "text": [
            "\r 14%|█▍        | 7/50 [00:01<00:09,  4.47it/s]"
          ]
        },
        {
          "output_type": "stream",
          "name": "stdout",
          "text": [
            "1/1 [==============================] - 0s 41ms/step\n"
          ]
        },
        {
          "output_type": "stream",
          "name": "stderr",
          "text": [
            "\r 16%|█▌        | 8/50 [00:01<00:09,  4.47it/s]"
          ]
        },
        {
          "output_type": "stream",
          "name": "stdout",
          "text": [
            "1/1 [==============================] - 0s 21ms/step\n"
          ]
        },
        {
          "output_type": "stream",
          "name": "stderr",
          "text": [
            "\r 18%|█▊        | 9/50 [00:02<00:08,  4.66it/s]"
          ]
        },
        {
          "output_type": "stream",
          "name": "stdout",
          "text": [
            "1/1 [==============================] - 0s 32ms/step\n"
          ]
        },
        {
          "output_type": "stream",
          "name": "stderr",
          "text": [
            "\r 20%|██        | 10/50 [00:02<00:08,  4.79it/s]"
          ]
        },
        {
          "output_type": "stream",
          "name": "stdout",
          "text": [
            "1/1 [==============================] - 0s 26ms/step\n"
          ]
        },
        {
          "output_type": "stream",
          "name": "stderr",
          "text": [
            "\r 22%|██▏       | 11/50 [00:02<00:08,  4.86it/s]"
          ]
        },
        {
          "output_type": "stream",
          "name": "stdout",
          "text": [
            "1/1 [==============================] - 0s 22ms/step\n"
          ]
        },
        {
          "output_type": "stream",
          "name": "stderr",
          "text": [
            "\r 24%|██▍       | 12/50 [00:02<00:07,  4.97it/s]"
          ]
        },
        {
          "output_type": "stream",
          "name": "stdout",
          "text": [
            "1/1 [==============================] - 0s 23ms/step\n"
          ]
        },
        {
          "output_type": "stream",
          "name": "stderr",
          "text": [
            "\r 26%|██▌       | 13/50 [00:02<00:07,  5.01it/s]"
          ]
        },
        {
          "output_type": "stream",
          "name": "stdout",
          "text": [
            "1/1 [==============================] - 0s 39ms/step\n"
          ]
        },
        {
          "output_type": "stream",
          "name": "stderr",
          "text": [
            "\r 28%|██▊       | 14/50 [00:03<00:07,  5.01it/s]"
          ]
        },
        {
          "output_type": "stream",
          "name": "stdout",
          "text": [
            "1/1 [==============================] - 0s 24ms/step\n"
          ]
        },
        {
          "output_type": "stream",
          "name": "stderr",
          "text": [
            "\r 30%|███       | 15/50 [00:03<00:06,  5.06it/s]"
          ]
        },
        {
          "output_type": "stream",
          "name": "stdout",
          "text": [
            "1/1 [==============================] - 0s 23ms/step\n"
          ]
        },
        {
          "output_type": "stream",
          "name": "stderr",
          "text": [
            "\r 32%|███▏      | 16/50 [00:03<00:06,  5.10it/s]"
          ]
        },
        {
          "output_type": "stream",
          "name": "stdout",
          "text": [
            "1/1 [==============================] - 0s 23ms/step\n"
          ]
        },
        {
          "output_type": "stream",
          "name": "stderr",
          "text": [
            "\r 34%|███▍      | 17/50 [00:03<00:06,  5.09it/s]"
          ]
        },
        {
          "output_type": "stream",
          "name": "stdout",
          "text": [
            "1/1 [==============================] - 0s 24ms/step\n"
          ]
        },
        {
          "output_type": "stream",
          "name": "stderr",
          "text": [
            "\r 36%|███▌      | 18/50 [00:03<00:06,  5.12it/s]"
          ]
        },
        {
          "output_type": "stream",
          "name": "stdout",
          "text": [
            "1/1 [==============================] - 0s 28ms/step\n"
          ]
        },
        {
          "output_type": "stream",
          "name": "stderr",
          "text": [
            "\r 38%|███▊      | 19/50 [00:04<00:06,  5.11it/s]"
          ]
        },
        {
          "output_type": "stream",
          "name": "stdout",
          "text": [
            "1/1 [==============================] - 0s 25ms/step\n"
          ]
        },
        {
          "output_type": "stream",
          "name": "stderr",
          "text": [
            "\r 40%|████      | 20/50 [00:04<00:05,  5.08it/s]"
          ]
        },
        {
          "output_type": "stream",
          "name": "stdout",
          "text": [
            "1/1 [==============================] - 0s 28ms/step\n"
          ]
        },
        {
          "output_type": "stream",
          "name": "stderr",
          "text": [
            "\r 42%|████▏     | 21/50 [00:04<00:05,  5.04it/s]"
          ]
        },
        {
          "output_type": "stream",
          "name": "stdout",
          "text": [
            "1/1 [==============================] - 0s 24ms/step\n"
          ]
        },
        {
          "output_type": "stream",
          "name": "stderr",
          "text": [
            "\r 44%|████▍     | 22/50 [00:04<00:05,  5.07it/s]"
          ]
        },
        {
          "output_type": "stream",
          "name": "stdout",
          "text": [
            "1/1 [==============================] - 0s 26ms/step\n"
          ]
        },
        {
          "output_type": "stream",
          "name": "stderr",
          "text": [
            "\r 46%|████▌     | 23/50 [00:04<00:05,  5.08it/s]"
          ]
        },
        {
          "output_type": "stream",
          "name": "stdout",
          "text": [
            "1/1 [==============================] - 0s 25ms/step\n"
          ]
        },
        {
          "output_type": "stream",
          "name": "stderr",
          "text": [
            "\r 48%|████▊     | 24/50 [00:05<00:05,  5.10it/s]"
          ]
        },
        {
          "output_type": "stream",
          "name": "stdout",
          "text": [
            "1/1 [==============================] - 0s 26ms/step\n"
          ]
        },
        {
          "output_type": "stream",
          "name": "stderr",
          "text": [
            "\r 50%|█████     | 25/50 [00:05<00:04,  5.14it/s]"
          ]
        },
        {
          "output_type": "stream",
          "name": "stdout",
          "text": [
            "1/1 [==============================] - 0s 25ms/step\n"
          ]
        },
        {
          "output_type": "stream",
          "name": "stderr",
          "text": [
            "\r 52%|█████▏    | 26/50 [00:05<00:04,  5.15it/s]"
          ]
        },
        {
          "output_type": "stream",
          "name": "stdout",
          "text": [
            "1/1 [==============================] - 0s 22ms/step\n"
          ]
        },
        {
          "output_type": "stream",
          "name": "stderr",
          "text": [
            "\r 54%|█████▍    | 27/50 [00:05<00:04,  5.15it/s]"
          ]
        },
        {
          "output_type": "stream",
          "name": "stdout",
          "text": [
            "1/1 [==============================] - 0s 26ms/step\n"
          ]
        },
        {
          "output_type": "stream",
          "name": "stderr",
          "text": [
            "\r 56%|█████▌    | 28/50 [00:05<00:04,  5.15it/s]"
          ]
        },
        {
          "output_type": "stream",
          "name": "stdout",
          "text": [
            "1/1 [==============================] - 0s 25ms/step\n"
          ]
        },
        {
          "output_type": "stream",
          "name": "stderr",
          "text": [
            "\r 58%|█████▊    | 29/50 [00:05<00:04,  5.17it/s]"
          ]
        },
        {
          "output_type": "stream",
          "name": "stdout",
          "text": [
            "1/1 [==============================] - 0s 23ms/step\n"
          ]
        },
        {
          "output_type": "stream",
          "name": "stderr",
          "text": [
            "\r 60%|██████    | 30/50 [00:06<00:03,  5.17it/s]"
          ]
        },
        {
          "output_type": "stream",
          "name": "stdout",
          "text": [
            "1/1 [==============================] - 0s 24ms/step\n"
          ]
        },
        {
          "output_type": "stream",
          "name": "stderr",
          "text": [
            "\r 62%|██████▏   | 31/50 [00:06<00:03,  5.15it/s]"
          ]
        },
        {
          "output_type": "stream",
          "name": "stdout",
          "text": [
            "1/1 [==============================] - 0s 28ms/step\n"
          ]
        },
        {
          "output_type": "stream",
          "name": "stderr",
          "text": [
            "\r 64%|██████▍   | 32/50 [00:06<00:03,  5.17it/s]"
          ]
        },
        {
          "output_type": "stream",
          "name": "stdout",
          "text": [
            "1/1 [==============================] - 0s 28ms/step\n"
          ]
        },
        {
          "output_type": "stream",
          "name": "stderr",
          "text": [
            "\r 66%|██████▌   | 33/50 [00:06<00:03,  5.17it/s]"
          ]
        },
        {
          "output_type": "stream",
          "name": "stdout",
          "text": [
            "1/1 [==============================] - 0s 32ms/step\n"
          ]
        },
        {
          "output_type": "stream",
          "name": "stderr",
          "text": [
            "\r 68%|██████▊   | 34/50 [00:06<00:03,  5.18it/s]"
          ]
        },
        {
          "output_type": "stream",
          "name": "stdout",
          "text": [
            "1/1 [==============================] - 0s 36ms/step\n"
          ]
        },
        {
          "output_type": "stream",
          "name": "stderr",
          "text": [
            "\r 70%|███████   | 35/50 [00:07<00:02,  5.16it/s]"
          ]
        },
        {
          "output_type": "stream",
          "name": "stdout",
          "text": [
            "1/1 [==============================] - 0s 28ms/step\n"
          ]
        },
        {
          "output_type": "stream",
          "name": "stderr",
          "text": [
            "\r 72%|███████▏  | 36/50 [00:07<00:02,  5.14it/s]"
          ]
        },
        {
          "output_type": "stream",
          "name": "stdout",
          "text": [
            "1/1 [==============================] - 0s 26ms/step\n"
          ]
        },
        {
          "output_type": "stream",
          "name": "stderr",
          "text": [
            "\r 74%|███████▍  | 37/50 [00:07<00:02,  5.15it/s]"
          ]
        },
        {
          "output_type": "stream",
          "name": "stdout",
          "text": [
            "1/1 [==============================] - 0s 23ms/step\n"
          ]
        },
        {
          "output_type": "stream",
          "name": "stderr",
          "text": [
            "\r 76%|███████▌  | 38/50 [00:07<00:02,  5.11it/s]"
          ]
        },
        {
          "output_type": "stream",
          "name": "stdout",
          "text": [
            "1/1 [==============================] - 0s 24ms/step\n"
          ]
        },
        {
          "output_type": "stream",
          "name": "stderr",
          "text": [
            "\r 78%|███████▊  | 39/50 [00:07<00:02,  5.13it/s]"
          ]
        },
        {
          "output_type": "stream",
          "name": "stdout",
          "text": [
            "1/1 [==============================] - 0s 25ms/step\n"
          ]
        },
        {
          "output_type": "stream",
          "name": "stderr",
          "text": [
            "\r 80%|████████  | 40/50 [00:08<00:01,  5.14it/s]"
          ]
        },
        {
          "output_type": "stream",
          "name": "stdout",
          "text": [
            "1/1 [==============================] - 0s 26ms/step\n"
          ]
        },
        {
          "output_type": "stream",
          "name": "stderr",
          "text": [
            "\r 82%|████████▏ | 41/50 [00:08<00:01,  5.07it/s]"
          ]
        },
        {
          "output_type": "stream",
          "name": "stdout",
          "text": [
            "1/1 [==============================] - 0s 32ms/step\n"
          ]
        },
        {
          "output_type": "stream",
          "name": "stderr",
          "text": [
            "\r 84%|████████▍ | 42/50 [00:08<00:01,  5.04it/s]"
          ]
        },
        {
          "output_type": "stream",
          "name": "stdout",
          "text": [
            "1/1 [==============================] - 0s 28ms/step\n"
          ]
        },
        {
          "output_type": "stream",
          "name": "stderr",
          "text": [
            "\r 86%|████████▌ | 43/50 [00:08<00:01,  5.04it/s]"
          ]
        },
        {
          "output_type": "stream",
          "name": "stdout",
          "text": [
            "1/1 [==============================] - 0s 26ms/step\n"
          ]
        },
        {
          "output_type": "stream",
          "name": "stderr",
          "text": [
            "\r 88%|████████▊ | 44/50 [00:08<00:01,  5.06it/s]"
          ]
        },
        {
          "output_type": "stream",
          "name": "stdout",
          "text": [
            "1/1 [==============================] - 0s 30ms/step\n"
          ]
        },
        {
          "output_type": "stream",
          "name": "stderr",
          "text": [
            "\r 90%|█████████ | 45/50 [00:09<00:00,  5.08it/s]"
          ]
        },
        {
          "output_type": "stream",
          "name": "stdout",
          "text": [
            "1/1 [==============================] - 0s 40ms/step\n"
          ]
        },
        {
          "output_type": "stream",
          "name": "stderr",
          "text": [
            "\r 92%|█████████▏| 46/50 [00:09<00:00,  5.03it/s]"
          ]
        },
        {
          "output_type": "stream",
          "name": "stdout",
          "text": [
            "1/1 [==============================] - 0s 24ms/step\n"
          ]
        },
        {
          "output_type": "stream",
          "name": "stderr",
          "text": [
            "\r 94%|█████████▍| 47/50 [00:09<00:00,  5.08it/s]"
          ]
        },
        {
          "output_type": "stream",
          "name": "stdout",
          "text": [
            "1/1 [==============================] - 0s 25ms/step\n"
          ]
        },
        {
          "output_type": "stream",
          "name": "stderr",
          "text": [
            "\r 96%|█████████▌| 48/50 [00:09<00:00,  5.10it/s]"
          ]
        },
        {
          "output_type": "stream",
          "name": "stdout",
          "text": [
            "1/1 [==============================] - 0s 33ms/step\n"
          ]
        },
        {
          "output_type": "stream",
          "name": "stderr",
          "text": [
            "\r 98%|█████████▊| 49/50 [00:09<00:00,  5.06it/s]"
          ]
        },
        {
          "output_type": "stream",
          "name": "stdout",
          "text": [
            "1/1 [==============================] - 0s 33ms/step\n"
          ]
        },
        {
          "output_type": "stream",
          "name": "stderr",
          "text": [
            "100%|██████████| 50/50 [00:10<00:00,  4.94it/s]\n",
            "  0%|          | 0/50 [00:00<?, ?it/s]"
          ]
        },
        {
          "output_type": "stream",
          "name": "stdout",
          "text": [
            "Warning: Lung mask sum is zero for case 0, slice 0. Skipping calculations.\n"
          ]
        },
        {
          "output_type": "stream",
          "name": "stderr",
          "text": [
            "\r  2%|▏         | 1/50 [00:10<08:13, 10.06s/it]"
          ]
        },
        {
          "output_type": "stream",
          "name": "stdout",
          "text": [
            "Warning: Lung mask sum is zero for case 0, slice 31. Skipping calculations.\n",
            "Warning: Lung mask sum is zero for case 1, slice 0. Skipping calculations.\n"
          ]
        },
        {
          "output_type": "stream",
          "name": "stderr",
          "text": [
            "100%|██████████| 50/50 [00:18<00:00,  2.65it/s]"
          ]
        },
        {
          "output_type": "stream",
          "name": "stdout",
          "text": [
            "Warning: Lung mask sum is zero for case 1, slice 31. Skipping calculations.\n"
          ]
        },
        {
          "output_type": "stream",
          "name": "stderr",
          "text": [
            "\n"
          ]
        }
      ]
    },
    {
      "cell_type": "markdown",
      "metadata": {
        "id": "mvRZbbi4mCcN"
      },
      "source": [
        "# Plot The Results"
      ]
    },
    {
      "cell_type": "code",
      "metadata": {
        "colab": {
          "base_uri": "https://localhost:8080/"
        },
        "id": "Fwos_5ZGeUYS",
        "outputId": "4814ac3c-2408-4aea-d19c-7e1f7eb7271a"
      },
      "source": [
        "############### ploting resuts\n",
        "\n",
        "### Dice score\n",
        "PlotingResults(dice_list ,InfectionPercent,ScoreName='Dice score')\n",
        "\n",
        "##### Sensitivity\n",
        "PlotingResults(sensitivity_list,InfectionPercent,ScoreName='Sensitivity')\n",
        "\n",
        "\n",
        "##### Specificity\n",
        "PlotingResults(specificity_list,InfectionPercent,ScoreName='specificity')\n",
        "\n"
      ],
      "execution_count": 10,
      "outputs": [
        {
          "output_type": "stream",
          "name": "stdout",
          "text": [
            "Dice score Mean: 72.72727269090907 Dice score Std: 44.536177119244236\n",
            "Sensitivity Mean: 72.72727265454544 Sensitivity Std: 44.536177096976154\n",
            "specificity Mean: 99.99999989999996 specificity Std: 3.3306690738754696e-14\n"
          ]
        }
      ]
    },
    {
      "cell_type": "code",
      "metadata": {
        "colab": {
          "base_uri": "https://localhost:8080/"
        },
        "id": "vuBjHRVc3-RQ",
        "outputId": "eb9f6e93-1b6a-41da-f876-8911aeffdb2a"
      },
      "source": [
        "!pip list"
      ],
      "execution_count": 11,
      "outputs": [
        {
          "output_type": "stream",
          "name": "stdout",
          "text": [
            "Package                          Version\n",
            "-------------------------------- ---------------------\n",
            "absl-py                          1.4.0\n",
            "aiohttp                          3.9.1\n",
            "aiosignal                        1.3.1\n",
            "alabaster                        0.7.13\n",
            "albumentations                   1.3.1\n",
            "altair                           4.2.2\n",
            "anyio                            3.7.1\n",
            "appdirs                          1.4.4\n",
            "argon2-cffi                      23.1.0\n",
            "argon2-cffi-bindings             21.2.0\n",
            "array-record                     0.5.0\n",
            "arviz                            0.15.1\n",
            "astropy                          5.3.4\n",
            "astunparse                       1.6.3\n",
            "async-timeout                    4.0.3\n",
            "atpublic                         4.0\n",
            "attrs                            23.1.0\n",
            "audioread                        3.0.1\n",
            "autograd                         1.6.2\n",
            "Babel                            2.14.0\n",
            "backcall                         0.2.0\n",
            "beautifulsoup4                   4.11.2\n",
            "bidict                           0.22.1\n",
            "bigframes                        0.17.0\n",
            "bleach                           6.1.0\n",
            "blinker                          1.4\n",
            "blis                             0.7.11\n",
            "blosc2                           2.0.0\n",
            "bokeh                            3.3.2\n",
            "bqplot                           0.12.42\n",
            "branca                           0.7.0\n",
            "build                            1.0.3\n",
            "CacheControl                     0.13.1\n",
            "cachetools                       5.3.2\n",
            "catalogue                        2.0.10\n",
            "certifi                          2023.11.17\n",
            "cffi                             1.16.0\n",
            "chardet                          5.2.0\n",
            "charset-normalizer               3.3.2\n",
            "chex                             0.1.7\n",
            "click                            8.1.7\n",
            "click-plugins                    1.1.1\n",
            "cligj                            0.7.2\n",
            "cloudpickle                      2.2.1\n",
            "cmake                            3.27.9\n",
            "cmdstanpy                        1.2.0\n",
            "colorcet                         3.0.1\n",
            "colorlover                       0.3.0\n",
            "colour                           0.1.5\n",
            "community                        1.0.0b1\n",
            "confection                       0.1.4\n",
            "cons                             0.4.6\n",
            "contextlib2                      21.6.0\n",
            "contourpy                        1.2.0\n",
            "cryptography                     41.0.7\n",
            "cufflinks                        0.17.3\n",
            "cupy-cuda12x                     12.2.0\n",
            "cvxopt                           1.3.2\n",
            "cvxpy                            1.3.2\n",
            "cycler                           0.12.1\n",
            "cymem                            2.0.8\n",
            "Cython                           3.0.7\n",
            "dask                             2023.8.1\n",
            "datascience                      0.17.6\n",
            "db-dtypes                        1.2.0\n",
            "dbus-python                      1.2.18\n",
            "debugpy                          1.6.6\n",
            "decorator                        4.4.2\n",
            "defusedxml                       0.7.1\n",
            "diskcache                        5.6.3\n",
            "distributed                      2023.8.1\n",
            "distro                           1.7.0\n",
            "dlib                             19.24.2\n",
            "dm-tree                          0.1.8\n",
            "docutils                         0.18.1\n",
            "dopamine-rl                      4.0.6\n",
            "duckdb                           0.9.2\n",
            "earthengine-api                  0.1.384\n",
            "easydict                         1.11\n",
            "ecos                             2.0.12\n",
            "editdistance                     0.6.2\n",
            "eerepr                           0.0.4\n",
            "en-core-web-sm                   3.6.0\n",
            "entrypoints                      0.4\n",
            "et-xmlfile                       1.1.0\n",
            "etils                            1.6.0\n",
            "etuples                          0.3.9\n",
            "exceptiongroup                   1.2.0\n",
            "fastai                           2.7.13\n",
            "fastcore                         1.5.29\n",
            "fastdownload                     0.0.7\n",
            "fastjsonschema                   2.19.0\n",
            "fastprogress                     1.0.3\n",
            "fastrlock                        0.8.2\n",
            "filelock                         3.13.1\n",
            "fiona                            1.9.5\n",
            "firebase-admin                   5.3.0\n",
            "Flask                            2.2.5\n",
            "flatbuffers                      23.5.26\n",
            "flax                             0.7.5\n",
            "folium                           0.14.0\n",
            "fonttools                        4.47.0\n",
            "frozendict                       2.3.10\n",
            "frozenlist                       1.4.1\n",
            "fsspec                           2023.6.0\n",
            "future                           0.18.3\n",
            "gast                             0.5.4\n",
            "gcsfs                            2023.6.0\n",
            "GDAL                             3.4.3\n",
            "gdown                            4.6.6\n",
            "geemap                           0.29.6\n",
            "gensim                           4.3.2\n",
            "geocoder                         1.38.1\n",
            "geographiclib                    2.0\n",
            "geopandas                        0.13.2\n",
            "geopy                            2.3.0\n",
            "gin-config                       0.5.0\n",
            "glob2                            0.7\n",
            "google                           2.0.3\n",
            "google-ai-generativelanguage     0.4.0\n",
            "google-api-core                  2.11.1\n",
            "google-api-python-client         2.84.0\n",
            "google-auth                      2.17.3\n",
            "google-auth-httplib2             0.1.1\n",
            "google-auth-oauthlib             1.2.0\n",
            "google-cloud-aiplatform          1.38.1\n",
            "google-cloud-bigquery            3.12.0\n",
            "google-cloud-bigquery-connection 1.12.1\n",
            "google-cloud-bigquery-storage    2.24.0\n",
            "google-cloud-core                2.3.3\n",
            "google-cloud-datastore           2.15.2\n",
            "google-cloud-firestore           2.11.1\n",
            "google-cloud-functions           1.13.3\n",
            "google-cloud-iam                 2.13.0\n",
            "google-cloud-language            2.9.1\n",
            "google-cloud-resource-manager    1.11.0\n",
            "google-cloud-storage             2.8.0\n",
            "google-cloud-translate           3.11.3\n",
            "google-colab                     1.0.0\n",
            "google-crc32c                    1.5.0\n",
            "google-generativeai              0.3.2\n",
            "google-pasta                     0.2.0\n",
            "google-resumable-media           2.7.0\n",
            "googleapis-common-protos         1.62.0\n",
            "googledrivedownloader            0.4\n",
            "graphviz                         0.20.1\n",
            "greenlet                         3.0.2\n",
            "grpc-google-iam-v1               0.13.0\n",
            "grpcio                           1.60.0\n",
            "grpcio-status                    1.48.2\n",
            "gspread                          3.4.2\n",
            "gspread-dataframe                3.3.1\n",
            "gym                              0.25.2\n",
            "gym-notices                      0.0.8\n",
            "h5netcdf                         1.3.0\n",
            "h5py                             3.9.0\n",
            "holidays                         0.39\n",
            "holoviews                        1.17.1\n",
            "html5lib                         1.1\n",
            "httpimport                       1.3.1\n",
            "httplib2                         0.22.0\n",
            "huggingface-hub                  0.20.1\n",
            "humanize                         4.7.0\n",
            "hyperopt                         0.2.7\n",
            "ibis-framework                   6.2.0\n",
            "idna                             3.6\n",
            "imageio                          2.31.6\n",
            "imageio-ffmpeg                   0.4.9\n",
            "imagesize                        1.4.1\n",
            "imbalanced-learn                 0.10.1\n",
            "imgaug                           0.4.0\n",
            "importlib-metadata               7.0.0\n",
            "importlib-resources              6.1.1\n",
            "imutils                          0.5.4\n",
            "inflect                          7.0.0\n",
            "iniconfig                        2.0.0\n",
            "install                          1.3.5\n",
            "intel-openmp                     2023.2.3\n",
            "ipyevents                        2.0.2\n",
            "ipyfilechooser                   0.6.0\n",
            "ipykernel                        5.5.6\n",
            "ipyleaflet                       0.18.1\n",
            "ipython                          7.34.0\n",
            "ipython-genutils                 0.2.0\n",
            "ipython-sql                      0.5.0\n",
            "ipytree                          0.2.2\n",
            "ipywidgets                       7.7.1\n",
            "itsdangerous                     2.1.2\n",
            "jax                              0.4.23\n",
            "jaxlib                           0.4.23+cuda12.cudnn89\n",
            "jeepney                          0.7.1\n",
            "jieba                            0.42.1\n",
            "Jinja2                           3.1.2\n",
            "joblib                           1.3.2\n",
            "jsonpickle                       3.0.2\n",
            "jsonschema                       4.19.2\n",
            "jsonschema-specifications        2023.11.2\n",
            "jupyter-client                   6.1.12\n",
            "jupyter-console                  6.1.0\n",
            "jupyter_core                     5.5.1\n",
            "jupyter-server                   1.24.0\n",
            "jupyterlab_pygments              0.3.0\n",
            "jupyterlab-widgets               3.0.9\n",
            "kaggle                           1.5.16\n",
            "kagglehub                        0.1.4\n",
            "keras                            2.15.0\n",
            "keyring                          23.5.0\n",
            "kiwisolver                       1.4.5\n",
            "langcodes                        3.3.0\n",
            "launchpadlib                     1.10.16\n",
            "lazr.restfulclient               0.14.4\n",
            "lazr.uri                         1.0.6\n",
            "lazy_loader                      0.3\n",
            "libclang                         16.0.6\n",
            "librosa                          0.10.1\n",
            "lida                             0.0.10\n",
            "lightgbm                         4.1.0\n",
            "linkify-it-py                    2.0.2\n",
            "llmx                             0.0.15a0\n",
            "llvmlite                         0.41.1\n",
            "locket                           1.0.0\n",
            "logical-unification              0.4.6\n",
            "lxml                             4.9.4\n",
            "malloy                           2023.1067\n",
            "Markdown                         3.5.1\n",
            "markdown-it-py                   3.0.0\n",
            "MarkupSafe                       2.1.3\n",
            "matplotlib                       3.7.1\n",
            "matplotlib-inline                0.1.6\n",
            "matplotlib-venn                  0.11.9\n",
            "mdit-py-plugins                  0.4.0\n",
            "mdurl                            0.1.2\n",
            "miniKanren                       1.0.3\n",
            "missingno                        0.5.2\n",
            "mistune                          0.8.4\n",
            "mizani                           0.9.3\n",
            "mkl                              2023.2.0\n",
            "ml-dtypes                        0.2.0\n",
            "mlxtend                          0.22.0\n",
            "more-itertools                   10.1.0\n",
            "moviepy                          1.0.3\n",
            "mpmath                           1.3.0\n",
            "msgpack                          1.0.7\n",
            "multidict                        6.0.4\n",
            "multipledispatch                 1.0.0\n",
            "multitasking                     0.0.11\n",
            "murmurhash                       1.0.10\n",
            "music21                          9.1.0\n",
            "natsort                          8.4.0\n",
            "nbclassic                        1.0.0\n",
            "nbclient                         0.9.0\n",
            "nbconvert                        6.5.4\n",
            "nbformat                         5.9.2\n",
            "nest-asyncio                     1.5.8\n",
            "networkx                         3.2.1\n",
            "nibabel                          4.0.2\n",
            "nltk                             3.8.1\n",
            "notebook                         6.5.5\n",
            "notebook_shim                    0.2.3\n",
            "numba                            0.58.1\n",
            "numexpr                          2.8.8\n",
            "numpy                            1.23.5\n",
            "oauth2client                     4.1.3\n",
            "oauthlib                         3.2.2\n",
            "opencv-contrib-python            4.8.0.76\n",
            "opencv-python                    4.8.0.76\n",
            "opencv-python-headless           4.8.1.78\n",
            "openpyxl                         3.1.2\n",
            "opt-einsum                       3.3.0\n",
            "optax                            0.1.7\n",
            "orbax-checkpoint                 0.4.4\n",
            "osqp                             0.6.2.post8\n",
            "packaging                        23.2\n",
            "pandas                           1.5.3\n",
            "pandas-datareader                0.10.0\n",
            "pandas-gbq                       0.19.2\n",
            "pandas-stubs                     1.5.3.230304\n",
            "pandocfilters                    1.5.0\n",
            "panel                            1.3.6\n",
            "param                            2.0.1\n",
            "parso                            0.8.3\n",
            "parsy                            2.1\n",
            "partd                            1.4.1\n",
            "pathlib                          1.0.1\n",
            "pathy                            0.10.3\n",
            "patsy                            0.5.4\n",
            "peewee                           3.17.0\n",
            "pexpect                          4.9.0\n",
            "pickleshare                      0.7.5\n",
            "Pillow                           9.4.0\n",
            "pip                              23.1.2\n",
            "pip-tools                        6.13.0\n",
            "platformdirs                     4.1.0\n",
            "plotly                           5.15.0\n",
            "plotnine                         0.12.4\n",
            "pluggy                           1.3.0\n",
            "polars                           0.17.3\n",
            "pooch                            1.8.0\n",
            "portpicker                       1.5.2\n",
            "prefetch-generator               1.0.3\n",
            "preshed                          3.0.9\n",
            "prettytable                      3.9.0\n",
            "proglog                          0.1.10\n",
            "progressbar2                     4.2.0\n",
            "prometheus-client                0.19.0\n",
            "promise                          2.3\n",
            "prompt-toolkit                   3.0.43\n",
            "prophet                          1.1.5\n",
            "proto-plus                       1.23.0\n",
            "protobuf                         3.20.3\n",
            "psutil                           5.9.5\n",
            "psycopg2                         2.9.9\n",
            "ptyprocess                       0.7.0\n",
            "py-cpuinfo                       9.0.0\n",
            "py4j                             0.10.9.7\n",
            "pyarrow                          10.0.1\n",
            "pyasn1                           0.5.1\n",
            "pyasn1-modules                   0.3.0\n",
            "pycocotools                      2.0.7\n",
            "pycparser                        2.21\n",
            "pyct                             0.5.0\n",
            "pydantic                         1.10.13\n",
            "pydata-google-auth               1.8.2\n",
            "pydot                            1.4.2\n",
            "pydot-ng                         2.0.0\n",
            "pydotplus                        2.0.2\n",
            "PyDrive                          1.3.1\n",
            "PyDrive2                         1.6.3\n",
            "pyerfa                           2.0.1.1\n",
            "pygame                           2.5.2\n",
            "Pygments                         2.16.1\n",
            "PyGObject                        3.42.1\n",
            "PyJWT                            2.3.0\n",
            "pymc                             5.7.2\n",
            "pymystem3                        0.2.0\n",
            "PyOpenGL                         3.1.7\n",
            "pyOpenSSL                        23.3.0\n",
            "pyparsing                        3.1.1\n",
            "pyperclip                        1.8.2\n",
            "pyproj                           3.6.1\n",
            "pyproject_hooks                  1.0.0\n",
            "pyshp                            2.3.1\n",
            "PySocks                          1.7.1\n",
            "pytensor                         2.14.2\n",
            "pytest                           7.4.3\n",
            "python-apt                       0.0.0\n",
            "python-box                       7.1.1\n",
            "python-dateutil                  2.8.2\n",
            "python-louvain                   0.16\n",
            "python-slugify                   8.0.1\n",
            "python-utils                     3.8.1\n",
            "pytz                             2023.3.post1\n",
            "pyviz_comms                      3.0.0\n",
            "PyWavelets                       1.5.0\n",
            "PyYAML                           6.0.1\n",
            "pyzmq                            23.2.1\n",
            "qdldl                            0.1.7.post0\n",
            "qudida                           0.0.4\n",
            "ratelim                          0.1.6\n",
            "referencing                      0.32.0\n",
            "regex                            2023.6.3\n",
            "requests                         2.31.0\n",
            "requests-oauthlib                1.3.1\n",
            "requirements-parser              0.5.0\n",
            "rich                             13.7.0\n",
            "rpds-py                          0.15.2\n",
            "rpy2                             3.4.2\n",
            "rsa                              4.9\n",
            "safetensors                      0.4.1\n",
            "scikit-image                     0.19.3\n",
            "scikit-learn                     1.2.2\n",
            "scipy                            1.11.4\n",
            "scooby                           0.9.2\n",
            "scs                              3.2.4.post1\n",
            "seaborn                          0.12.2\n",
            "SecretStorage                    3.3.1\n",
            "Send2Trash                       1.8.2\n",
            "setuptools                       67.7.2\n",
            "shapely                          2.0.2\n",
            "six                              1.16.0\n",
            "sklearn-pandas                   2.2.0\n",
            "smart-open                       6.4.0\n",
            "sniffio                          1.3.0\n",
            "snowballstemmer                  2.2.0\n",
            "sortedcontainers                 2.4.0\n",
            "soundfile                        0.12.1\n",
            "soupsieve                        2.5\n",
            "soxr                             0.3.7\n",
            "spacy                            3.6.1\n",
            "spacy-legacy                     3.0.12\n",
            "spacy-loggers                    1.0.5\n",
            "Sphinx                           5.0.2\n",
            "sphinxcontrib-applehelp          1.0.7\n",
            "sphinxcontrib-devhelp            1.0.5\n",
            "sphinxcontrib-htmlhelp           2.0.4\n",
            "sphinxcontrib-jsmath             1.0.1\n",
            "sphinxcontrib-qthelp             1.0.6\n",
            "sphinxcontrib-serializinghtml    1.1.9\n",
            "SQLAlchemy                       2.0.23\n",
            "sqlglot                          17.16.2\n",
            "sqlparse                         0.4.4\n",
            "srsly                            2.4.8\n",
            "stanio                           0.3.0\n",
            "statsmodels                      0.14.1\n",
            "sympy                            1.12\n",
            "tables                           3.8.0\n",
            "tabulate                         0.9.0\n",
            "tbb                              2021.11.0\n",
            "tblib                            3.0.0\n",
            "tenacity                         8.2.3\n",
            "tensorboard                      2.15.1\n",
            "tensorboard-data-server          0.7.2\n",
            "tensorflow                       2.15.0\n",
            "tensorflow-datasets              4.9.4\n",
            "tensorflow-estimator             2.15.0\n",
            "tensorflow-gcs-config            2.15.0\n",
            "tensorflow-hub                   0.15.0\n",
            "tensorflow-io-gcs-filesystem     0.35.0\n",
            "tensorflow-metadata              1.14.0\n",
            "tensorflow-probability           0.22.0\n",
            "tensorstore                      0.1.45\n",
            "termcolor                        2.4.0\n",
            "terminado                        0.18.0\n",
            "text-unidecode                   1.3\n",
            "textblob                         0.17.1\n",
            "tf-slim                          1.1.0\n",
            "thinc                            8.1.12\n",
            "threadpoolctl                    3.2.0\n",
            "tifffile                         2023.12.9\n",
            "tinycss2                         1.2.1\n",
            "tokenizers                       0.15.0\n",
            "toml                             0.10.2\n",
            "tomli                            2.0.1\n",
            "toolz                            0.12.0\n",
            "torch                            2.1.0+cu121\n",
            "torchaudio                       2.1.0+cu121\n",
            "torchdata                        0.7.0\n",
            "torchsummary                     1.5.1\n",
            "torchtext                        0.16.0\n",
            "torchvision                      0.16.0+cu121\n",
            "tornado                          6.3.2\n",
            "tqdm                             4.66.1\n",
            "traitlets                        5.7.1\n",
            "traittypes                       0.2.1\n",
            "transformers                     4.35.2\n",
            "triton                           2.1.0\n",
            "tweepy                           4.14.0\n",
            "typer                            0.9.0\n",
            "types-pytz                       2023.3.1.1\n",
            "types-setuptools                 69.0.0.0\n",
            "typing_extensions                4.5.0\n",
            "tzlocal                          5.2\n",
            "uc-micro-py                      1.0.2\n",
            "uritemplate                      4.1.1\n",
            "urllib3                          2.0.7\n",
            "vega-datasets                    0.9.0\n",
            "wadllib                          1.3.6\n",
            "wasabi                           1.1.2\n",
            "wcwidth                          0.2.12\n",
            "webcolors                        1.13\n",
            "webencodings                     0.5.1\n",
            "websocket-client                 1.7.0\n",
            "Werkzeug                         3.0.1\n",
            "wheel                            0.42.0\n",
            "widgetsnbextension               3.6.6\n",
            "wordcloud                        1.9.3\n",
            "wrapt                            1.14.1\n",
            "xarray                           2023.7.0\n",
            "xarray-einstats                  0.6.0\n",
            "xgboost                          2.0.3\n",
            "xlrd                             2.0.1\n",
            "xxhash                           3.4.1\n",
            "xyzservices                      2023.10.1\n",
            "yarl                             1.9.4\n",
            "yellowbrick                      1.5\n",
            "yfinance                         0.2.33\n",
            "zict                             3.0.0\n",
            "zipp                             3.17.0\n"
          ]
        }
      ]
    }
  ]
}